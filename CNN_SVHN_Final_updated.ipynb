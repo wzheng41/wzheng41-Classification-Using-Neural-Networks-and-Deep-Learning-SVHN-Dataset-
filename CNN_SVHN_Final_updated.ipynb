{
  "nbformat": 4,
  "nbformat_minor": 0,
  "metadata": {
    "colab": {
      "name": "CNN_SVHN_Final_updated.ipynb",
      "provenance": []
    },
    "kernelspec": {
      "name": "python3",
      "display_name": "Python 3"
    },
    "language_info": {
      "name": "python"
    },
    "accelerator": "GPU"
  },
  "cells": [
    {
      "cell_type": "code",
      "metadata": {
        "colab": {
          "base_uri": "https://localhost:8080/"
        },
        "id": "QBk3d7xQywy9",
        "outputId": "de5b362a-ca1a-476d-a517-6f57a180cc84"
      },
      "source": [
        "from google.colab import drive\n",
        "drive.mount('/content/drive')"
      ],
      "execution_count": null,
      "outputs": [
        {
          "output_type": "stream",
          "text": [
            "Mounted at /content/drive\n"
          ],
          "name": "stdout"
        }
      ]
    },
    {
      "cell_type": "code",
      "metadata": {
        "id": "9ccO_gx4y8dA"
      },
      "source": [
        "import numpy as np\n",
        "import keras\n",
        "from matplotlib import pyplot as plt\n",
        "from scipy.io import loadmat\n",
        "from sklearn.model_selection import train_test_split\n",
        "from sklearn.preprocessing import LabelBinarizer\n",
        "from keras.preprocessing.image import ImageDataGenerator\n",
        "%matplotlib inline\n",
        "np.random.seed(20)"
      ],
      "execution_count": null,
      "outputs": []
    },
    {
      "cell_type": "code",
      "metadata": {
        "id": "Knm41mACzE5Y"
      },
      "source": [
        "# Step (1): Load the data\n",
        "\n",
        "train_raw = loadmat('/content/drive/MyDrive/Study-Gate/CNN/train_32x32 (1).mat')\n",
        "test_raw = loadmat('/content/drive/MyDrive/Study-Gate/CNN/test_32x32 (2).mat')"
      ],
      "execution_count": null,
      "outputs": []
    },
    {
      "cell_type": "code",
      "metadata": {
        "id": "R0M1fv3lzIpH"
      },
      "source": [
        "# from data get images and thier labels\n",
        "\n",
        "train_images = np.array(train_raw['X'])\n",
        "test_images = np.array(test_raw['X'])\n",
        "train_labels = train_raw['y']\n",
        "test_labels = test_raw['y']"
      ],
      "execution_count": null,
      "outputs": []
    },
    {
      "cell_type": "code",
      "metadata": {
        "id": "3XZEz-9EzLcX"
      },
      "source": [
        "# do some data preprocessing to prepare them for the model \n",
        "\n",
        "# imageshas DataType uint8 not in list of allowed values so we need to convert the images into float \n",
        "train_images = train_images.astype('float64')\n",
        "test_images = test_images.astype('float64')\n",
        "\n",
        "#The labels must be of type int so Convert the labels into integers \n",
        "train_labels = train_labels.astype('int64')\n",
        "test_labels = test_labels.astype('int64')"
      ],
      "execution_count": null,
      "outputs": []
    },
    {
      "cell_type": "code",
      "metadata": {
        "colab": {
          "base_uri": "https://localhost:8080/"
        },
        "id": "4autAKufzNDo",
        "outputId": "6b554db4-0c42-4e04-c6a0-34eb21818813"
      },
      "source": [
        "# Step (2_1): Normalize the images data to bring it in the range of 0-1.\n",
        "\n",
        "print('Image Data before Normalization: Min: {}, Max: {}'.format(train_images.min(), train_images.max()))\n",
        "train_images /= 255.0\n",
        "test_images /= 255.0\n",
        "print('Image Data after Normalization: Min: {}, Max: {}'.format(train_images.min(), train_images.max()))"
      ],
      "execution_count": null,
      "outputs": [
        {
          "output_type": "stream",
          "text": [
            "Image Data before Normalization: Min: 0.0, Max: 255.0\n",
            "Image Data after Normalization: Min: 0.0, Max: 1.0\n"
          ],
          "name": "stdout"
        }
      ]
    },
    {
      "cell_type": "code",
      "metadata": {
        "id": "8BYnyXCLzOsP"
      },
      "source": [
        "# Step (2_2): Encode the labels using one-hot vector encoding.\n",
        "\n",
        "one_hot_encoding = LabelBinarizer()\n",
        "train_labels = one_hot_encoding.fit_transform(train_labels)\n",
        "test_labels = one_hot_encoding.fit_transform(test_labels)"
      ],
      "execution_count": null,
      "outputs": []
    },
    {
      "cell_type": "code",
      "metadata": {
        "id": "BwKt9jy3zQ3f"
      },
      "source": [
        "# Split train data into train and validation sets\n",
        "\n",
        "X_train, X_val, y_train, y_val = train_test_split(train_images, train_labels,\n",
        "                                                  test_size=0.15, random_state=22)"
      ],
      "execution_count": null,
      "outputs": []
    },
    {
      "cell_type": "code",
      "metadata": {
        "id": "m8SGRdcyzTNn"
      },
      "source": [
        "# Data augmentation to enhance the size and quality of the training data\n",
        "\n",
        "datagen = ImageDataGenerator(rotation_range=8,\n",
        "                             zoom_range=[0.95, 1.05],\n",
        "                             height_shift_range=0.10,\n",
        "                             shear_range=0.15)"
      ],
      "execution_count": null,
      "outputs": []
    },
    {
      "cell_type": "code",
      "metadata": {
        "id": "7yC4C9Zh3yqN"
      },
      "source": [
        "# Step (3): Define the architecture of the model\n",
        "\n",
        "keras.backend.clear_session()\n",
        "\n",
        "model = keras.Sequential([\n",
        "    keras.layers.Conv2D(64, (5, 5), padding='same', \n",
        "                           activation='relu',\n",
        "                           input_shape=(32, 32, 3)),\n",
        "    keras.layers.BatchNormalization(),\n",
        "    keras.layers.MaxPooling2D((2, 2)),\n",
        "    keras.layers.Conv2D(64, (5, 5), padding='same', \n",
        "                           activation='relu'),\n",
        "    keras.layers.BatchNormalization(),\n",
        "    keras.layers.MaxPooling2D((2, 2)),\n",
        "    keras.layers.Conv2D(128, (5, 5), padding='same', \n",
        "                           activation='relu'),\n",
        "    keras.layers.BatchNormalization(),\n",
        "    keras.layers.Flatten(),\n",
        "    keras.layers.Dense(3072, activation='relu'),\n",
        "    keras.layers.Dense(2048, activation='relu'),    \n",
        "    keras.layers.Dense(10,  activation='softmax')\n",
        "])\n",
        "\n",
        "optimizer = keras.optimizers.SGD(lr=1e-1)\n",
        "model.compile(optimizer=optimizer,\n",
        "              loss='categorical_crossentropy',\n",
        "              metrics=['accuracy'])"
      ],
      "execution_count": null,
      "outputs": []
    },
    {
      "cell_type": "code",
      "metadata": {
        "colab": {
          "base_uri": "https://localhost:8080/"
        },
        "id": "uuOjJLgM4DNS",
        "outputId": "8bbab45e-a593-4025-cdb0-360acb2e87ec"
      },
      "source": [
        "# The Model architecture details\n",
        "\n",
        "model.summary()"
      ],
      "execution_count": null,
      "outputs": [
        {
          "output_type": "stream",
          "text": [
            "Model: \"sequential\"\n",
            "_________________________________________________________________\n",
            "Layer (type)                 Output Shape              Param #   \n",
            "=================================================================\n",
            "conv2d (Conv2D)              (None, 32, 32, 64)        4864      \n",
            "_________________________________________________________________\n",
            "batch_normalization (BatchNo (None, 32, 32, 64)        256       \n",
            "_________________________________________________________________\n",
            "max_pooling2d (MaxPooling2D) (None, 16, 16, 64)        0         \n",
            "_________________________________________________________________\n",
            "conv2d_1 (Conv2D)            (None, 16, 16, 64)        102464    \n",
            "_________________________________________________________________\n",
            "batch_normalization_1 (Batch (None, 16, 16, 64)        256       \n",
            "_________________________________________________________________\n",
            "max_pooling2d_1 (MaxPooling2 (None, 8, 8, 64)          0         \n",
            "_________________________________________________________________\n",
            "conv2d_2 (Conv2D)            (None, 8, 8, 128)         204928    \n",
            "_________________________________________________________________\n",
            "batch_normalization_2 (Batch (None, 8, 8, 128)         512       \n",
            "_________________________________________________________________\n",
            "flatten (Flatten)            (None, 8192)              0         \n",
            "_________________________________________________________________\n",
            "dense (Dense)                (None, 3072)              25168896  \n",
            "_________________________________________________________________\n",
            "dense_1 (Dense)              (None, 2048)              6293504   \n",
            "_________________________________________________________________\n",
            "dense_2 (Dense)              (None, 10)                20490     \n",
            "=================================================================\n",
            "Total params: 31,796,170\n",
            "Trainable params: 31,795,658\n",
            "Non-trainable params: 512\n",
            "_________________________________________________________________\n"
          ],
          "name": "stdout"
        }
      ]
    },
    {
      "cell_type": "code",
      "metadata": {
        "colab": {
          "base_uri": "https://localhost:8080/"
        },
        "id": "bgcaAj4R4FMQ",
        "outputId": "39fc20a1-c5a5-4dda-9b73-9c9634e31b83"
      },
      "source": [
        "# Step (4): Train the model using SGD optimizer \n",
        "\n",
        "history = model.fit_generator(datagen.flow(X_train, y_train, batch_size=128),\n",
        "                              epochs=20, validation_data=(X_val, y_val))"
      ],
      "execution_count": null,
      "outputs": [
        {
          "output_type": "stream",
          "text": [
            "/usr/local/lib/python3.7/dist-packages/tensorflow/python/keras/engine/training.py:1844: UserWarning: `Model.fit_generator` is deprecated and will be removed in a future version. Please use `Model.fit`, which supports generators.\n",
            "  warnings.warn('`Model.fit_generator` is deprecated and '\n"
          ],
          "name": "stderr"
        },
        {
          "output_type": "stream",
          "text": [
            "Epoch 1/20\n",
            "487/487 [==============================] - 66s 68ms/step - loss: 2.4147 - accuracy: 0.3542 - val_loss: 0.4571 - val_accuracy: 0.8580\n",
            "Epoch 2/20\n",
            "487/487 [==============================] - 33s 68ms/step - loss: 0.4511 - accuracy: 0.8597 - val_loss: 0.3204 - val_accuracy: 0.9062\n",
            "Epoch 3/20\n",
            "487/487 [==============================] - 33s 67ms/step - loss: 0.3116 - accuracy: 0.9050 - val_loss: 0.2896 - val_accuracy: 0.9163\n",
            "Epoch 4/20\n",
            "487/487 [==============================] - 33s 67ms/step - loss: 0.2576 - accuracy: 0.9227 - val_loss: 0.2875 - val_accuracy: 0.9153\n",
            "Epoch 5/20\n",
            "487/487 [==============================] - 33s 67ms/step - loss: 0.2003 - accuracy: 0.9412 - val_loss: 0.2883 - val_accuracy: 0.9164\n",
            "Epoch 6/20\n",
            "487/487 [==============================] - 33s 67ms/step - loss: 0.1679 - accuracy: 0.9505 - val_loss: 0.2923 - val_accuracy: 0.9142\n",
            "Epoch 7/20\n",
            "487/487 [==============================] - 32s 67ms/step - loss: 0.1367 - accuracy: 0.9574 - val_loss: 0.2738 - val_accuracy: 0.9239\n",
            "Epoch 8/20\n",
            "487/487 [==============================] - 33s 67ms/step - loss: 0.1112 - accuracy: 0.9656 - val_loss: 0.2763 - val_accuracy: 0.9257\n",
            "Epoch 9/20\n",
            "487/487 [==============================] - 33s 67ms/step - loss: 0.0942 - accuracy: 0.9724 - val_loss: 0.2796 - val_accuracy: 0.9237\n",
            "Epoch 10/20\n",
            "487/487 [==============================] - 33s 67ms/step - loss: 0.0776 - accuracy: 0.9780 - val_loss: 0.2683 - val_accuracy: 0.9321\n",
            "Epoch 11/20\n",
            "487/487 [==============================] - 33s 67ms/step - loss: 0.0687 - accuracy: 0.9793 - val_loss: 0.2721 - val_accuracy: 0.9323\n",
            "Epoch 12/20\n",
            "487/487 [==============================] - 32s 67ms/step - loss: 0.0588 - accuracy: 0.9828 - val_loss: 0.2748 - val_accuracy: 0.9328\n",
            "Epoch 13/20\n",
            "487/487 [==============================] - 32s 66ms/step - loss: 0.0487 - accuracy: 0.9849 - val_loss: 0.2952 - val_accuracy: 0.9309\n",
            "Epoch 14/20\n",
            "487/487 [==============================] - 32s 66ms/step - loss: 0.0424 - accuracy: 0.9868 - val_loss: 0.3027 - val_accuracy: 0.9337\n",
            "Epoch 15/20\n",
            "487/487 [==============================] - 33s 67ms/step - loss: 0.0341 - accuracy: 0.9896 - val_loss: 0.3119 - val_accuracy: 0.9334\n",
            "Epoch 16/20\n",
            "487/487 [==============================] - 32s 66ms/step - loss: 0.0351 - accuracy: 0.9888 - val_loss: 0.3116 - val_accuracy: 0.9357\n",
            "Epoch 17/20\n",
            "487/487 [==============================] - 32s 66ms/step - loss: 0.0299 - accuracy: 0.9908 - val_loss: 0.3046 - val_accuracy: 0.9348\n",
            "Epoch 18/20\n",
            "487/487 [==============================] - 32s 66ms/step - loss: 0.0273 - accuracy: 0.9918 - val_loss: 0.3543 - val_accuracy: 0.9273\n",
            "Epoch 19/20\n",
            "487/487 [==============================] - 32s 66ms/step - loss: 0.0242 - accuracy: 0.9933 - val_loss: 0.3192 - val_accuracy: 0.9365\n",
            "Epoch 20/20\n",
            "487/487 [==============================] - 32s 66ms/step - loss: 0.0219 - accuracy: 0.9937 - val_loss: 0.3143 - val_accuracy: 0.9354\n"
          ],
          "name": "stdout"
        }
      ]
    },
    {
      "cell_type": "code",
      "metadata": {
        "colab": {
          "base_uri": "https://localhost:8080/",
          "height": 281
        },
        "id": "VTxSPXxb4JkR",
        "outputId": "3ea6c934-0af1-44d2-88c7-cf59ef53b78b"
      },
      "source": [
        "# Step (5): Plot the training and testing curves as a function of epochs: Loss \n",
        "\n",
        "train_loss = history.history['loss']\n",
        "val_loss = history.history['val_loss']\n",
        "plt.plot(train_loss, label='Training Loss')\n",
        "plt.plot(val_loss, label='Testing Loss')\n",
        "plt.legend()\n",
        "plt.title('Epochs vs. Training and Testing Loss')\n",
        "plt.show()"
      ],
      "execution_count": null,
      "outputs": [
        {
          "output_type": "display_data",
          "data": {
            "image/png": "[encoded data removed]",
            "text/plain": [
              "<Figure size 432x288 with 1 Axes>"
            ]
          },
          "metadata": {
            "tags": [],
            "needs_background": "light"
          }
        }
      ]
    },
    {
      "cell_type": "code",
      "metadata": {
        "colab": {
          "base_uri": "https://localhost:8080/",
          "height": 281
        },
        "id": "VhxpFji9Bz0-",
        "outputId": "17adfbf8-9905-484f-feeb-ca318fbfe38a"
      },
      "source": [
        "# Plot the training and testing curves as a function of epochs: Accuracy\n",
        "\n",
        "train_acc = history.history['accuracy']\n",
        "val_acc = history.history['val_accuracy']\n",
        "plt.plot(train_acc, label='Training Accuracy')\n",
        "plt.plot(val_acc, label='Testing Accuracy')\n",
        "plt.legend()\n",
        "plt.title('Epochs vs. Training and Testing Accuracy')\n",
        "plt.show()"
      ],
      "execution_count": null,
      "outputs": [
        {
          "output_type": "display_data",
          "data": {
            "image/png": "[encoded data removed]",
            "text/plain": [
              "<Figure size 432x288 with 1 Axes>"
            ]
          },
          "metadata": {
            "tags": [],
            "needs_background": "light"
          }
        }
      ]
    },
    {
      "cell_type": "code",
      "metadata": {
        "colab": {
          "base_uri": "https://localhost:8080/"
        },
        "id": "4CzkK-_e5XQ6",
        "outputId": "63ebc9f9-57d2-4d9a-9f70-c610aeb07713"
      },
      "source": [
        "# Test model on the test set\n",
        "# the final classification accuracy on testing set.\n",
        "\n",
        "test_loss, test_acc = model.evaluate(x=test_images, y=test_labels, verbose=0)\n",
        "\n",
        "print('Test accuracy is ', test_acc)"
      ],
      "execution_count": null,
      "outputs": [
        {
          "output_type": "stream",
          "text": [
            "Test accuracy is  0.9304317831993103\n"
          ],
          "name": "stdout"
        }
      ]
    }
  ]
}